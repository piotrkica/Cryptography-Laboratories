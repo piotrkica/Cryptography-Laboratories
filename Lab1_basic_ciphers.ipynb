{
 "cells": [
  {
   "cell_type": "markdown",
   "metadata": {},
   "source": [
    "# Kryptografia klasyczna (od starożytności do czasów współczesnych)\n",
    "### Literatura:\n",
    "1. Księga szyfrów, Simon Singh, Świat książki, 2001\n",
    "2. Łamacze kodów, David Kahn, WNT, 2004"
   ]
  },
  {
   "cell_type": "code",
   "execution_count": 1,
   "metadata": {},
   "outputs": [],
   "source": [
    "# Alfabet jawny i szyfrowy \n",
    "\n",
    "alphabet = ['a','b', 'c', 'd', 'e', 'f', 'g', 'h', 'i', 'j', 'k', 'l', 'm', 'n', 'o', 'p',\n",
    "            'q', 'r', 's', 't', 'u', 'v', 'w', 'x', 'y', 'z', ' ']  # w tym spacja\n",
    "\n",
    "alphabet_size = len(alphabet)"
   ]
  },
  {
   "cell_type": "markdown",
   "metadata": {},
   "source": [
    "## Szyfr Cezara\n",
    "--------------\n",
    "Szyfr Cezara oczywiście nie zawdzięcza swego istnienia Juliuszowi Cezarowi. Został przezeń jedynie wspomniany w pamiętnikach o wojnach galijskich. Prawdopodobnie była to dobrze znana metoda w tym czasie."
   ]
  },
  {
   "cell_type": "code",
   "execution_count": 2,
   "metadata": {},
   "outputs": [],
   "source": [
    "def caesar_code(alphabet, plaintext, key=15): # key to przesunięcie permutacji czyli klucz szyfrowania \n",
    "    ciphertext = \"\"\n",
    "    for char in plaintext.lower():\n",
    "        ciphertext += alphabet[(alphabet.index(char) + key) % len(alphabet)] \n",
    "    \n",
    "    return ciphertext"
   ]
  },
  {
   "cell_type": "code",
   "execution_count": 3,
   "metadata": {},
   "outputs": [],
   "source": [
    "def caesar_decode(alphabet, ciphertext, key=15):\n",
    "    decoded_text = \"\"\n",
    "    for char in ciphertext.lower():\n",
    "        decoded_text += alphabet[(alphabet.index(char) - key) % len(alphabet)] \n",
    "    \n",
    "    return decoded_text"
   ]
  },
  {
   "cell_type": "markdown",
   "metadata": {},
   "source": [
    "#### Przykład"
   ]
  },
  {
   "cell_type": "code",
   "execution_count": 5,
   "metadata": {},
   "outputs": [
    {
     "name": "stdout",
     "output_type": "stream",
     "text": [
      "Tekst jawny: \t\t Zorro fly zealotry zipper\n",
      "Zaszyfrowana wiadomość:  ncffcou montp chfmonxddtf (spacje usunięte)\n",
      "Odszyfrowana wiadomość:  zorro fly zealotry zipper (spacje usunięte)\n"
     ]
    }
   ],
   "source": [
    "plaintext = \"Zorro fly zealotry zipper\"\n",
    "print(\"Tekst jawny: \\t\\t\", plaintext)\n",
    "\n",
    "ciphertext = caesar_code(alphabet, plaintext)\n",
    "print(\"Zaszyfrowana wiadomość: \",  ciphertext, \"(spacje usunięte)\")\n",
    "\n",
    "decoded_text = caesar_decode(alphabet, ciphertext)\n",
    "print(\"Odszyfrowana wiadomość: \",  decoded_text,  \"(spacje usunięte)\")"
   ]
  },
  {
   "cell_type": "markdown",
   "metadata": {},
   "source": [
    "## Szyfr monoalfabetyczny: \n",
    "_danemu symbolowi alfabetu jawnego odpowiada dokładnie jeden i ten sam symbol alfabetu tajnego._"
   ]
  },
  {
   "cell_type": "markdown",
   "metadata": {},
   "source": [
    "### Zastanów się:\n",
    "1. Czy szyfr Cezara jest łatwy do złamania? Ile prób (testów przesunięć) trzeba aby złamać szyfr Cezara?\n",
    "2. Co to jest atak siłowy (__brute force__)?  \n",
    "3. Zaproponuj i zaimplementuj wariant szyfru Cezara, która wymaga wykonania większej liczby prób podczas ataku?  \n",
    "4. Oceń koszt ataku na ten wariant Cezara."
   ]
  },
  {
   "cell_type": "code",
   "execution_count": 6,
   "metadata": {},
   "outputs": [
    {
     "name": "stdout",
     "output_type": "stream",
     "text": [
      "ocffckwdskopydchfskotjjpf\n",
      "zorro fly zealotry zipper\n"
     ]
    }
   ],
   "source": [
    "import random\n",
    "\n",
    "def substitution_cipher_code(alphabet, shuffled_alph, plaintext):\n",
    "    alphabet_size = len(alphabet)\n",
    "    ciphertext = \"\"\n",
    "\n",
    "    for char in plaintext.lower():\n",
    "        ciphertext += shuffled_alph[(alphabet.index(char)) % alphabet_size] \n",
    "            \n",
    "    return ciphertext\n",
    "\n",
    "def substitution_cipher_decode(alphabet, shuffled_alph, ciphertext):\n",
    "    alphabet_size = len(alphabet)\n",
    "    decoded_text = \"\"\n",
    "\n",
    "    for char in ciphertext:\n",
    "        decoded_text += alphabet[(shuffled_alph.index(char)) % alphabet_size] \n",
    "            \n",
    "    return decoded_text\n",
    "\n",
    "plaintext = \"Zorro fly zealotry zipper\"\n",
    "shuffled_alph = alphabet.copy()\n",
    "random.shuffle(shuffled_alph)\n",
    "\n",
    "ciphertext = substitution_cipher_code(alphabet, shuffled_alph, plaintext)\n",
    "print(ciphertext)\n",
    "decoded_text = substitution_cipher_decode(alphabet, shuffled_alph, ciphertext)\n",
    "print(decoded_text)"
   ]
  },
  {
   "cell_type": "markdown",
   "metadata": {},
   "source": [
    "## Kryptoanaliza szyfrów monoalfabetycznych\n",
    "\n",
    "Współcześnie kryptoanaliza szyfru Cezara jest trywialna. Można po prostu sprawdzić wszystkie 26 możliwych przesunięć. \n",
    "\n",
    "Szyfry monoalfabetyczne nie są także odporne na __kryptoanalizę statystyczną__. Znając rozkład częstości liter w tekstach napisanych w danym języku możemy odgadnąć przesunięcie obserwując minima i maxima w histogramach. \n",
    "\n",
    "W zasadzie kluczową sprawą w obu przypadkach jest znajomość języka, a w gruncie rzeczy alfabetu. "
   ]
  },
  {
   "cell_type": "markdown",
   "metadata": {},
   "source": [
    "# Problem\n",
    "1. Narysuj rozkład częstości występowania liter w języku angielskim (kod rysowania histogramu poniżej)"
   ]
  },
  {
   "cell_type": "code",
   "execution_count": 7,
   "metadata": {},
   "outputs": [],
   "source": [
    "from matplotlib import pyplot as plt\n",
    "import numpy as np\n",
    "import pandas as pd\n",
    "\n",
    "def plot_distributions(alphabet, distributions, distribution_names=None):\n",
    "     # distributions to lista rozkładów ale rozkład może być jeden wtedy przekazujemy [rozkład]\n",
    "    df = pd.DataFrame(distributions).T\n",
    "    df.index = alphabet\n",
    "    df.columns = distribution_names or df.columns\n",
    "    \n",
    "    df.plot.bar(rot=0, figsize=(18,9))\n",
    "    plt.xlabel('Alfabet')\n",
    "    plt.ylabel('Częstość występowania')"
   ]
  },
  {
   "cell_type": "code",
   "execution_count": 8,
   "metadata": {},
   "outputs": [
    {
     "data": {
      "image/png": "[encoded data removed]",
      "text/plain": [
       "<Figure size 1296x648 with 1 Axes>"
      ]
     },
     "metadata": {
      "needs_background": "light"
     },
     "output_type": "display_data"
    }
   ],
   "source": [
    "letters =   ['a',  'b',    'c',   'd',  'e',   'f',   'g',   'h',   'i',   'j',   'k',   'l',    'm',  'n',   'o',   'p',    'q',  'r',   's',   't',   'u',   'v',   'w',   'x',    'y',   'z']\n",
    "frequency = [0.080, 0.015, 0.030, 0.040, 0.130, 0.020, 0.015, 0.060, 0.065, 0.005, 0.005, 0.035, 0.030, 0.070, 0.080, 0.020, 0.002, 0.065, 0.060, 0.090, 0.030, 0.010, 0.015, 0.005, 0.020, 0.002]\n",
    "\n",
    "plot_distributions(letters, [frequency], ['frequency'])\n",
    "plt.title(\"Język angielski\");"
   ]
  },
  {
   "cell_type": "code",
   "execution_count": 9,
   "metadata": {},
   "outputs": [
    {
     "data": {
      "image/png": "[encoded data removed]",
      "text/plain": [
       "<Figure size 1296x648 with 1 Axes>"
      ]
     },
     "metadata": {
      "needs_background": "light"
     },
     "output_type": "display_data"
    },
    {
     "data": {
      "image/png": "[encoded data removed]",
      "text/plain": [
       "<Figure size 1296x648 with 1 Axes>"
      ]
     },
     "metadata": {
      "needs_background": "light"
     },
     "output_type": "display_data"
    },
    {
     "data": {
      "image/png": "[encoded data removed]",
      "text/plain": [
       "<Figure size 1296x648 with 1 Axes>"
      ]
     },
     "metadata": {
      "needs_background": "light"
     },
     "output_type": "display_data"
    }
   ],
   "source": [
    "#  Przykład wywołania plot_distributions, wcześniej trzeba uruchomić komórki z kodowaniem i plotowaniem\n",
    "plaintext = \"TobeornottobethatisthequestionWhethertisNoblerinthemindtosufferTheSlingsand\\\n",
    "ArrowsofoutrageousFortuneOrtotakeArmsagainstaSeaoftroublesAndbyopposingendthem\"\n",
    "\n",
    "Alphabet = ['a','b','c','d','e','f','g','h','i','j','k','l','m','n','o','p','q','r','s','t','u','v','w','x','y','z']\n",
    "\n",
    "# policz częstość i wyświetl rozkłady \n",
    "def make_distribution(alphabet, plaintext):\n",
    "    value_counts = [0]*len(Alphabet)\n",
    "    \n",
    "    for char in plaintext:\n",
    "        value_counts[alphabet.index(char.lower())] += 1\n",
    "\n",
    "    distribution = [vc/len(plaintext) for vc in value_counts]\n",
    "    \n",
    "    return distribution\n",
    "\n",
    "plaintext_distr = make_distribution(Alphabet, plaintext)\n",
    "caesar_distr = make_distribution(Alphabet, caesar_code(Alphabet, plaintext, key = 5))\n",
    "\n",
    "\n",
    "plot_distributions(Alphabet, [plaintext_distr], ['plaintext_distribution'])\n",
    "\n",
    "plot_distributions(Alphabet, [frequency, plaintext_distr], ['frequency', 'plaintext_distribution'])\n",
    "\n",
    "plot_distributions(Alphabet, [plaintext_distr, caesar_distr], ['plaintext_distribution', 'caesar_distribution'])"
   ]
  },
  {
   "cell_type": "markdown",
   "metadata": {},
   "source": [
    "2. Dokonaj analizy częstości występowania liter w tekście jawnym i szyfrogramie (szyfr Cezara z dowolnym przesunięciem) dla tekstu w poniższym fragmencie kodu. Wyświetl wyniki podobnie jak powyżej. \n",
    "3. Dokonaj analizy częstości występowania liter w szyfrogramie wygenerowanym przez \"ulepszonego Cezara\""
   ]
  },
  {
   "cell_type": "markdown",
   "metadata": {},
   "source": [
    "### Przykład: \n",
    "Automatyczna kryptoanaliza tekst zaszyfrowanego zwykłym Cezarem"
   ]
  },
  {
   "cell_type": "code",
   "execution_count": 12,
   "metadata": {},
   "outputs": [
    {
     "name": "stderr",
     "output_type": "stream",
     "text": [
      "[nltk_data] Downloading package words to\n",
      "[nltk_data]     C:\\Users\\Piotrek\\AppData\\Roaming\\nltk_data...\n",
      "[nltk_data]   Package words is already up-to-date!\n"
     ]
    },
    {
     "name": "stdout",
     "output_type": "stream",
     "text": [
      "Trying key:  2  .... mbeeb\n",
      "Trying key:  16  .... zorro\n",
      "\n",
      "Decoded string: zorro\n",
      "\n",
      "Trying key:  15  .... thisisanexemplarytextstudyhardbeagoodpersonandhavefuninlife\n",
      "\n",
      "Decoded string: thisisanexemplarytextstudyhardbeagoodpersonandhavefuninlife\n",
      "\n"
     ]
    }
   ],
   "source": [
    "import nltk\n",
    "nltk.download('words')\n",
    "from nltk.corpus import words\n",
    "\n",
    "\n",
    "def auto_cryptoanalisys(ciphertext):\n",
    "    alphabet = \"abcdefghijklmnopqrstuvwxyz \"\n",
    "    eng_letters_freq = [0.080, 0.015, 0.030, 0.040, 0.130, 0.020, 0.015, 0.060, 0.065, 0.005, 0.005, 0.035, 0.030,\n",
    "                        0.070, 0.080, 0.020, 0.002, 0.065, 0.060, 0.090, 0.030, 0.010, 0.015, 0.005, 0.020, 0.002, 0.000]\n",
    "\n",
    "    valid_chars_len = len([char for char in ciphertext if char.isalpha()])  # suma wystąpień poprawnych liter w szyfrogramie\n",
    "    unique_chars = list(set(filter(str.isalpha, ciphertext.lower())))  # lista unikalnych liter w szfrogramie\n",
    "    frequency = [ciphertext.count(char) / valid_chars_len for char in unique_chars]  # częstość liter w tekście\n",
    "    words_set = set(words.words())\n",
    "    \n",
    "    psi = []\n",
    "    value = 0.0\n",
    "    for i in range(0, 26):  # oblicz dopasowanie\n",
    "        for unique_char in unique_chars:\n",
    "            value += frequency[unique_chars.index(unique_char)] * eng_letters_freq[alphabet.index(unique_char) - i]\n",
    "        psi.append(value)\n",
    "        value = 0.0\n",
    "\n",
    "    sorted_psi = sorted(psi, reverse=True)  # sortuj dopasowanie\n",
    "    \n",
    "    for i in range(0, 27):\n",
    "        key = psi.index(sorted_psi[i])\n",
    "        decoded_string = \"\".join([alphabet[alphabet.index(char) - key] for char in ciphertext]) #  odszyfruj kluczem\n",
    "\n",
    "        print(\"Trying key: \", key, \" ....\", decoded_string)\n",
    "\n",
    "        if ' ' not in decoded_string:  # jeśl to ciąg znaków bez spacji\n",
    "            # sprawdź czy decoded_string to konkatenacja poprawnych słów angielskich\n",
    "            def word_break(word):\n",
    "                def _word_break(word, lookup):\n",
    "                    n = len(word)\n",
    "                    if n == 0:\n",
    "                        return True\n",
    "\n",
    "                    if lookup[n] == -1:\n",
    "                        lookup[n] = 0\n",
    "                        for i in range(1, n + 1):\n",
    "                            prefix = word[:i]\n",
    "                            if len(prefix) == 1 and prefix not in ['a', 'o', 'i']:\n",
    "                                continue\n",
    "                            if prefix in words_set and _word_break(word[i:], lookup):\n",
    "                                lookup[n] = 1\n",
    "                                return True\n",
    "\n",
    "                lookup = [-1] * (len(word) + 1)\n",
    "                words_set = set(words.words())\n",
    "                _word_break(word, lookup)\n",
    "\n",
    "                return lookup[-1] == 1\n",
    "\n",
    "            if word_break(decoded_string):\n",
    "                return decoded_string\n",
    "        \n",
    "        if all([word in words_set for word in decoded_string.split()]): # podziel wg spacji i sprawdź czy to wyrazy\n",
    "            return decoded_string\n",
    "\n",
    "    return False\n",
    "\n",
    "# Przykład 1\n",
    "ciphertext = \"odggd\".lower()\n",
    "print(f\"\\nDecoded string: {auto_cryptoanalisys(ciphertext)}\\n\")\n",
    "\n",
    "# Przykład 2\n",
    "# exemplary_text = \"This is an exemplary text. Study hard, be a good person and have fun in life\"\n",
    "# exemplary_text_clean = \"\".join([char for char in exemplary_text if char.isalpha() or char == ' ']).lower()\n",
    "\n",
    "# exemplary_text_code = caesar_code(alphabet, exemplary_text_clean, key = 15)\n",
    "# print(f\"\\nDecoded string: {auto_cryptoanalisys(exemplary_text_code)}\\n\")\n",
    "\n",
    "exemplary_text = \"This is an exemplary text. Study hard, be a good person and have fun in life\"\n",
    "exemplary_text_clean = \"\".join([char for char in exemplary_text if char.isalpha()]).lower()\n",
    "\n",
    "exemplary_text_code = caesar_code(alphabet, exemplary_text_clean, key = 15)\n",
    "print(f\"\\nDecoded string: {auto_cryptoanalisys(exemplary_text_code)}\\n\")"
   ]
  },
  {
   "cell_type": "markdown",
   "metadata": {},
   "source": [
    "## Podsumowanie \n",
    "Główną słabością szyfrów monoalfabetycznych jest stałość przekształcenia, dzięki czemu możliwe jest łatwe zaobserwowanie regularności.\n",
    "\n",
    "Rozwiązaniem może być zmiana alfabetów w trakcie szyfrowania. Dla uproszczenia wystarczy zmieniać jedynie porządek liter. \n",
    "\n",
    "# Problem\n",
    "1. Napisać program, który zmienia alfabet szyfrowania po każdej literze.\n",
    "_Co będzie potrzebne oprócz tekst jawnego?_\n"
   ]
  },
  {
   "cell_type": "code",
   "execution_count": 13,
   "metadata": {},
   "outputs": [],
   "source": [
    "def vigenere_code(alphabet, plaintext, key):\n",
    "    alphabet_size = len(alphabet)\n",
    "    ciphertext = \"\"\n",
    "    key_idx = 0\n",
    "    \n",
    "    for char in plaintext:\n",
    "        ciphertext += alphabet[(alphabet.index(char) + key[key_idx]) % alphabet_size] \n",
    "        key_idx = (key_idx + 1) % len(key)\n",
    "            \n",
    "    return ciphertext\n",
    "\n",
    "def vigenere_decode(alphabet, ciphertext, key):\n",
    "    alphabet_size = len(alphabet)\n",
    "    decoded_text = \"\"\n",
    "    key_idx = 0\n",
    "\n",
    "    for char in ciphertext:\n",
    "        decoded_text += alphabet[(alphabet.index(char) - key[key_idx]) % alphabet_size] \n",
    "        key_idx = (key_idx + 1) % len(key)\n",
    "            \n",
    "    return decoded_text"
   ]
  },
  {
   "cell_type": "code",
   "execution_count": 14,
   "metadata": {},
   "outputs": [
    {
     "name": "stdout",
     "output_type": "stream",
     "text": [
      "uenvfegbaoxj kidnasvewkthbsuriafdptdazjcgwvqoexuhxocp bkicnxjg grscojonigb\n",
      "this is an exemplary text study hard be a good person and have fun in life\n"
     ]
    }
   ],
   "source": [
    "plaintext = \"this is an exemplary text study hard be a good person and have fun in life\"\n",
    "\n",
    "ciphertext = vigenere_code(alphabet, plaintext, [1,24,5,3,6,23,15,2,0])\n",
    "print(ciphertext)\n",
    "\n",
    "decoded_text = vigenere_decode(alphabet, ciphertext, [1,24,5,3,6,23,15,2,0])\n",
    "print(decoded_text)"
   ]
  },
  {
   "cell_type": "markdown",
   "metadata": {},
   "source": [
    "### Zastanów się:\n",
    "1. Sprawdź jak wygląda histogram szyfrogrami. \n",
    "2. Zastanów się jakie znaczenia ma długość klucza dla bezpieczeństwa szyfrowania.\n",
    "3. Czy powtarzanie klucza można wykorzystać dla potrzeb kryptoanalizy? \n",
    "4. Jaki klucz gwarantowałby bezpieczeństwo?\n",
    "5. Jaki rozkład częstości symboli szyfrogramu nie ujawni żadnych przydatnych danych kryptoanalitykowi? \n",
    "\n",
    "### Szyfr polialfabetyczny \n",
    "_Szyfr używający wielu alfabetów szyfrowych. W trakcie szyfrowania te same litery w tekście jawnym_\n",
    "\n",
    "### Szyfr doskonały (według Clouda Shannona):\n",
    "1. Jakie warunki musi spełniać szyfr-nie-do-złamania? "
   ]
  },
  {
   "cell_type": "markdown",
   "metadata": {},
   "source": [
    "## Zadanie (dodatkowe, na ocenę)\n",
    "1. Napisz notebook jupyter, które implementuje klasyczne szyfry mechaniczne: Enigma, szyfr Playfair, szyfr maszyny Lorenza. W sieci można łatwo znaleźć gotowe kody, wiec przy ocenie zwracam uwagę no dokładne omówienie kodu, przejrzystość, komentarze etc. "
   ]
  }
 ],
 "metadata": {
  "kernelspec": {
   "display_name": "Python 3",
   "language": "python",
   "name": "python3"
  },
  "language_info": {
   "codemirror_mode": {
    "name": "ipython",
    "version": 3
   },
   "file_extension": ".py",
   "mimetype": "text/x-python",
   "name": "python",
   "nbconvert_exporter": "python",
   "pygments_lexer": "ipython3",
   "version": "3.8.8"
  }
 },
 "nbformat": 4,
 "nbformat_minor": 1
}
